{
 "cells": [
  {
   "cell_type": "code",
   "execution_count": 37,
   "metadata": {},
   "outputs": [],
   "source": [
    "from sklearn.ensemble import RandomForestClassifier\n",
    "from scipy.sparse import csr_matrix, bmat, vstack, save_npz, csc_matrix, load_npz\n",
    "from random import sample, shuffle\n",
    "import numpy as np\n",
    "\n",
    "import time\n",
    "import pickle\n",
    "\n",
    "MAX = 200\n",
    "TRAINX_P = 'trainX_POSITIVES'\n",
    "TRAINX_N = 'trainX_NEGATIVES' + str(MAX)"
   ]
  },
  {
   "cell_type": "code",
   "execution_count": 38,
   "metadata": {},
   "outputs": [],
   "source": [
    "DATA = 'data/'\n",
    "\n",
    "# Read data\n",
    "with open(DATA + 'statements', 'r') as f:\n",
    "    statements = f.read().splitlines()\n",
    "    stmts_names = [st.split(',')[0][len('fof('):] for st in statements]\n",
    "    \n",
    "with open(DATA + 'chronology', 'r') as f:\n",
    "    chronology = f.read().splitlines()\n",
    "    \n",
    "with open(DATA + 'features', 'r') as f:\n",
    "    features = f.read().splitlines()\n",
    "    features = {f.split(':')[0] : f.split(':')[1].split(', ') for f in features}\n",
    "    \n",
    "with open(DATA + 'dependencies_train', 'r') as f:\n",
    "    train_dep_lines = f.read().splitlines()\n",
    "    train_dep = {}\n",
    "    for f in train_dep_lines:\n",
    "        stmt = f.split(':')[0]\n",
    "        prms = f.split(':')[1].split(' ')\n",
    "        if stmt in train_dep.keys():\n",
    "            train_dep[stmt] += prms\n",
    "        else:\n",
    "            train_dep[stmt] = prms\n",
    "    \n",
    "with open(DATA + 'conjectures_test', 'r') as f:\n",
    "    conj_test = f.read().splitlines()"
   ]
  },
  {
   "cell_type": "code",
   "execution_count": 39,
   "metadata": {},
   "outputs": [],
   "source": [
    "map_chrono = {f : i for i, f in enumerate(chronology)}"
   ]
  },
  {
   "cell_type": "code",
   "execution_count": 40,
   "metadata": {},
   "outputs": [],
   "source": [
    "flatten = lambda t: [item for sublist in t for item in sublist]\n",
    "land = lambda l1, l2: [a and b for a, b in zip(l1, l2)]\n",
    "lor = lambda l1, l2: [a or b for a, b in zip(l1, l2)]\n",
    "lxor = lambda l1, l2: [a != b for a, b in zip(l1, l2)]\n",
    "\n",
    "# Prepare features sparse vectors\n",
    "fts = list(set(flatten(list(features.values()))))\n",
    "map_fts = {f : i for i, f in enumerate(fts)}"
   ]
  },
  {
   "cell_type": "code",
   "execution_count": 41,
   "metadata": {},
   "outputs": [],
   "source": [
    "# Now I will convert statements to vectors\n",
    "stmts = {st: [int(f in features[st]) for f in fts] for st in stmts_names}"
   ]
  },
  {
   "cell_type": "code",
   "execution_count": 42,
   "metadata": {},
   "outputs": [],
   "source": [
    "def extract_feature (conj1, conj2):\n",
    "    return land(conj1, conj2) + lor(conj1, conj2) + lxor(conj1, conj2)"
   ]
  },
  {
   "cell_type": "code",
   "execution_count": 46,
   "metadata": {},
   "outputs": [
    {
     "name": "stdout",
     "output_type": "stream",
     "text": [
      "PART  0\n",
      "conjunction no :  0  , named  t3_xboole_0  with chrono no  27\n",
      "conjunction no :  10  , named  t20_xboole_1  with chrono no  63\n",
      "conjunction no :  20  , named  t59_xboole_1  with chrono no  107\n",
      "conjunction no :  30  , named  t117_xboole_1  with chrono no  171\n",
      "conjunction no :  40  , named  t31_zfmisc_1  with chrono no  325\n",
      "conjunction no :  50  , named  t114_zfmisc_1  with chrono no  400\n",
      "conjunction no :  60  , named  t32_subset_1  with chrono no  496\n",
      "conjunction no :  70  , named  t60_setfam_1  with chrono no  624\n",
      "conjunction no :  80  , named  t126_relat_1  with chrono no  771\n",
      "conjunction no :  90  , named  t35_funct_1  with chrono no  922\n",
      "conjunction no :  100  , named  t32_ordinal1  with chrono no  1089\n",
      "conjunction no :  110  , named  t19_mcart_1  with chrono no  1309\n",
      "PART  1\n",
      "conjunction no :  0  , named  t52_mcart_1  with chrono no  1351\n",
      "conjunction no :  10  , named  t97_mcart_1  with chrono no  1416\n",
      "conjunction no :  20  , named  t83_funct_2  with chrono no  1556\n",
      "conjunction no :  30  , named  t60_orders_2  with chrono no  1918\n",
      "conjunction no :  40  , named  t5_tops_2  with chrono no  2238\n",
      "conjunction no :  50  , named  t15_lattice3  with chrono no  2856\n",
      "conjunction no :  60  , named  t49_yellow_0  with chrono no  3035\n",
      "conjunction no :  70  , named  t67_tmap_1  with chrono no  3418\n",
      "conjunction no :  80  , named  t21_yellow_6  with chrono no  3873\n",
      "conjunction no :  90  , named  t20_funct_2  with chrono no  1493\n",
      "conjunction no :  100  , named  t106_tops_1  with chrono no  2197\n",
      "conjunction no :  110  , named  t105_xboole_1  with chrono no  159\n",
      "PART  2\n",
      "conjunction no :  0  , named  t107_tops_1  with chrono no  2198\n",
      "conjunction no :  10  , named  t10_tops_2  with chrono no  2246\n",
      "conjunction no :  20  , named  t115_zfmisc_1  with chrono no  401\n",
      "conjunction no :  30  , named  t119_enumset1  with chrono no  264\n",
      "conjunction no :  40  , named  t121_funct_2  with chrono no  1574\n",
      "conjunction no :  50  , named  t129_relat_1  with chrono no  774\n",
      "conjunction no :  60  , named  t130_relat_1  with chrono no  775\n",
      "conjunction no :  70  , named  t135_relat_1  with chrono no  780\n",
      "conjunction no :  80  , named  t13_xboole_1  with chrono no  55\n",
      "conjunction no :  90  , named  t145_zfmisc_1  with chrono no  437\n",
      "conjunction no :  100  , named  t148_tmap_1  with chrono no  3533\n",
      "conjunction no :  110  , named  t155_funct_1  with chrono no  1011\n",
      "PART  3\n",
      "conjunction no :  0  , named  t157_relat_1  with chrono no  806\n",
      "conjunction no :  10  , named  t15_tmap_1  with chrono no  3342\n",
      "conjunction no :  20  , named  t169_funct_2  with chrono no  1630\n",
      "conjunction no :  30  , named  t174_funct_1  with chrono no  1048\n",
      "conjunction no :  40  , named  t17_yellow19  with chrono no  4529\n",
      "conjunction no :  50  , named  t18_yellow_1  with chrono no  3107\n",
      "conjunction no :  60  , named  t19_relat_1  with chrono no  650\n",
      "conjunction no :  70  , named  t1_tops_2  with chrono no  2235\n",
      "conjunction no :  80  , named  t208_relat_1  with chrono no  872\n",
      "conjunction no :  90  , named  t212_relat_1  with chrono no  879\n",
      "conjunction no :  100  , named  t22_ordinal1  with chrono no  1074\n",
      "conjunction no :  110  , named  t23_waybel_9  with chrono no  4408\n",
      "PART  4\n",
      "conjunction no :  0  , named  t24_orders_2  with chrono no  1869\n",
      "conjunction no :  10  , named  t25_lattices  with chrono no  2042\n",
      "conjunction no :  20  , named  t26_finset_1  with chrono no  1738\n",
      "conjunction no :  30  , named  t27_lattices  with chrono no  2044\n",
      "conjunction no :  40  , named  t28_orders_2  with chrono no  1876\n",
      "conjunction no :  50  , named  t29_xboole_1  with chrono no  72\n",
      "conjunction no :  60  , named  t30_pre_topc  with chrono no  1811\n",
      "conjunction no :  70  , named  t31_relat_1  with chrono no  667\n",
      "conjunction no :  80  , named  t32_tmap_1  with chrono no  3375\n",
      "conjunction no :  90  , named  t33_wellord2  with chrono no  1466\n",
      "conjunction no :  100  , named  t35_connsp_2  with chrono no  2567\n",
      "conjunction no :  110  , named  t36_funct_2  with chrono no  1516\n",
      "PART  5\n",
      "conjunction no :  0  , named  t37_funct_1  with chrono no  925\n",
      "conjunction no :  10  , named  t38_wellord1  with chrono no  1174\n",
      "conjunction no :  20  , named  t3_waybel_7  with chrono no  4104\n",
      "conjunction no :  30  , named  t41_funct_2  with chrono no  1523\n",
      "conjunction no :  40  , named  t42_mcart_1  with chrono no  1334\n",
      "conjunction no :  50  , named  t44_enumset1  with chrono no  184\n",
      "conjunction no :  60  , named  t45_relat_1  with chrono no  683\n",
      "conjunction no :  70  , named  t46_yellow_0  with chrono no  3032\n",
      "conjunction no :  80  , named  t48_mcart_1  with chrono no  1347\n",
      "conjunction no :  90  , named  t49_funct_2  with chrono no  1534\n",
      "conjunction no :  100  , named  t4_waybel_0  with chrono no  3162\n",
      "conjunction no :  110  , named  t50_relat_1  with chrono no  688\n",
      "PART  6\n",
      "conjunction no :  0  , named  t51_enumset1  with chrono no  195\n",
      "conjunction no :  10  , named  t52_wellord1  with chrono no  1192\n",
      "conjunction no :  20  , named  t54_tmap_1  with chrono no  3403\n",
      "conjunction no :  30  , named  t56_tops_1  with chrono no  2123\n",
      "conjunction no :  40  , named  t59_enumset1  with chrono no  205\n",
      "conjunction no :  50  , named  t5_wellord2  with chrono no  1428\n",
      "conjunction no :  60  , named  t61_setfam_1  with chrono no  632\n",
      "conjunction no :  70  , named  t63_pre_topc  with chrono no  1852\n",
      "conjunction no :  80  , named  t64_tops_2  with chrono no  2415\n",
      "conjunction no :  90  , named  t66_mcart_1  with chrono no  1376\n",
      "conjunction no :  100  , named  t67_zfmisc_1  with chrono no  368\n",
      "conjunction no :  110  , named  t6_connsp_2  with chrono no  2520\n",
      "PART  7\n",
      "conjunction no :  0  , named  t6_setfam_1  with chrono no  557\n",
      "conjunction no :  10  , named  t71_relat_1  with chrono no  714\n",
      "conjunction no :  20  , named  t73_xboole_1  with chrono no  121\n",
      "conjunction no :  30  , named  t77_mcart_1  with chrono no  1387\n",
      "conjunction no :  40  , named  t79_tops_2  with chrono no  2436\n",
      "conjunction no :  50  , named  t80_enumset1  with chrono no  228\n",
      "conjunction no :  60  , named  t82_orders_2  with chrono no  1956\n",
      "conjunction no :  70  , named  t87_funct_1  with chrono no  975\n",
      "conjunction no :  80  , named  t8_funct_1  with chrono no  892\n",
      "conjunction no :  90  , named  t91_xboole_1  with chrono no  139\n",
      "conjunction no :  100  , named  t97_tops_1  with chrono no  2186\n",
      "conjunction no :  110  , named  t9_setfam_1  with chrono no  560\n",
      "PART  8\n",
      "conjunction no :  0  , named  t9_yellow_0  with chrono no  2970\n",
      "conjunction no :  10  , named  t116_zfmisc_1  with chrono no  404\n",
      "conjunction no :  20  , named  t96_relat_1  with chrono no  739\n",
      "conjunction no :  30  , named  t31_ordinal1  with chrono no  1087\n",
      "conjunction no :  40  , named  t76_funct_2  with chrono no  1551\n",
      "conjunction no :  50  , named  t29_filter_1  with chrono no  2712\n",
      "conjunction no :  60  , named  t19_yellow_0  with chrono no  2989\n",
      "conjunction no :  70  , named  t12_yellow_1  with chrono no  3100\n",
      "conjunction no :  80  , named  t53_waybel_0  with chrono no  3268\n",
      "conjunction no :  90  , named  t70_tmap_1  with chrono no  3422\n",
      "conjunction no :  100  , named  t28_tex_2  with chrono no  3666\n",
      "conjunction no :  110  , named  t36_yellow_6  with chrono no  3971\n",
      "PART  9\n",
      "conjunction no :  0  , named  t29_waybel_7  with chrono no  4201\n",
      "conjunction no :  10  , named  t40_waybel_9  with chrono no  4484\n",
      "conjunction no :  20  , named  t56_enumset1  with chrono no  202\n",
      "conjunction no :  30  , named  t75_funct_2  with chrono no  1550\n",
      "conjunction no :  40  , named  t131_tmap_1  with chrono no  3510\n",
      "conjunction no :  50  , named  t59_tmap_1  with chrono no  3409\n",
      "conjunction no :  60  , named  t2_filter_1  with chrono no  2588\n",
      "conjunction no :  70  , named  t47_funct_1  with chrono no  932\n",
      "conjunction no :  80  , named  t71_yellow_0  with chrono no  3072\n",
      "conjunction no :  90  , named  t35_orders_2  with chrono no  1886\n",
      "conjunction no :  100  , named  t139_funct_1  with chrono no  995\n",
      "conjunction no :  110  , named  t13_waybel_0  with chrono no  3190\n"
     ]
    }
   ],
   "source": [
    "import random\n",
    "# negative cases\n",
    "subsections = shuffle(list(train_dep.keys()))\n",
    "subsections = np.array_split(subsections, 10)\n",
    "prefix = 'trainX' + str(MAX) + '_'\n",
    "negatives = csc_matrix((0, len(fts) * 3))\n",
    "for subi, conjs in enumerate(subsections):\n",
    "    print(\"PART \", subi)\n",
    "    if (len(conjs) == 0):\n",
    "        break\n",
    "    sample_negs = []\n",
    "    amount = 0\n",
    "    for c, conj in enumerate(conjs):\n",
    "        negs = []\n",
    "        if (c % 10 == 0):\n",
    "            print(\"conjunction no : \", c ,\" , named \", conj, \" with chrono no \", map_chrono[conj])\n",
    "        for i, prem in enumerate([pr for pr in chronology[:map_chrono[conj]] \n",
    "                                     if pr not in train_dep[conj]]):\n",
    "            temp = extract_feature(stmts[conj], stmts[prem])\n",
    "            ones = sum(temp)\n",
    "            negs.append(temp)\n",
    "            amount += 1\n",
    "        if len(negs) > MAX :\n",
    "            sample_negs += sample(negs, MAX)\n",
    "        else:\n",
    "            sample_negs += [n for n in negs]\n",
    "    sample_negs = csc_matrix(sample_negs)\n",
    "    negatives = vstack([negatives, sample_negs])\n",
    "save_npz(TRAINX_N, csc_matrix(negatives))"
   ]
  },
  {
   "cell_type": "code",
   "execution_count": 54,
   "metadata": {},
   "outputs": [
    {
     "name": "stdout",
     "output_type": "stream",
     "text": [
      "took:  70.63029766082764\n",
      "took:  77.22966027259827\n",
      "took:  65.01791667938232\n",
      "took:  82.07144784927368\n",
      "took:  188.5096971988678\n",
      "took:  121.4633572101593\n",
      "took:  113.22412776947021\n",
      "took:  69.0822160243988\n",
      "took:  14.608438730239868\n",
      "took:  57.89383339881897\n"
     ]
    }
   ],
   "source": [
    "# positive cases\n",
    "positives = csc_matrix((0, len(fts) * 3))\n",
    "for conjs in np.array_split(list(train_dep.keys()), 10):\n",
    "    start = time.time()\n",
    "    positives = vstack([positives, csc_matrix([extract_feature(stmts[conj], stmts[premise]) for conj in conjs \n",
    "                 for premise in train_dep[conj]])])\n",
    "    end = time.time()\n",
    "    print(\"took: \", end - start)\n",
    "save_npz(TRAINX_P, csc_matrix(positives))"
   ]
  },
  {
   "cell_type": "code",
   "execution_count": null,
   "metadata": {},
   "outputs": [],
   "source": [
    "deps = 0\n",
    "for c in list(train_dep.keys()):\n",
    "    deps += len(train_dep[c])\n",
    "deps"
   ]
  },
  {
   "cell_type": "code",
   "execution_count": 55,
   "metadata": {},
   "outputs": [],
   "source": [
    "# combine whole train set and save it\n",
    "TRAINX = 'fullTrainX' + str(MAX)\n",
    "TRAINY = \"fullTrainY\" + str(MAX)\n",
    "trainY = [1] * positives.shape[0] + [0] * negatives.shape[0]\n",
    "trainX = vstack([positives, negatives])\n",
    "save_npz(TRAINX, trainX)\n",
    "with open(TRAINY, \"wb\") as fp:   #Pickling\n",
    "    pickle.dump(trainY, fp)"
   ]
  },
  {
   "cell_type": "code",
   "execution_count": null,
   "metadata": {},
   "outputs": [],
   "source": [
    "TrainY += "
   ]
  },
  {
   "cell_type": "code",
   "execution_count": null,
   "metadata": {},
   "outputs": [],
   "source": [
    "positives"
   ]
  },
  {
   "cell_type": "code",
   "execution_count": null,
   "metadata": {},
   "outputs": [],
   "source": [
    "negatives"
   ]
  },
  {
   "cell_type": "code",
   "execution_count": null,
   "metadata": {},
   "outputs": [],
   "source": []
  },
  {
   "cell_type": "code",
   "execution_count": null,
   "metadata": {},
   "outputs": [],
   "source": []
  }
 ],
 "metadata": {
  "kernelspec": {
   "display_name": "sid3",
   "language": "python",
   "name": "sid3"
  },
  "language_info": {
   "codemirror_mode": {
    "name": "ipython",
    "version": 3
   },
   "file_extension": ".py",
   "mimetype": "text/x-python",
   "name": "python",
   "nbconvert_exporter": "python",
   "pygments_lexer": "ipython3",
   "version": "3.8.5"
  }
 },
 "nbformat": 4,
 "nbformat_minor": 4
}
