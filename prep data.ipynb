{
 "cells": [
  {
   "cell_type": "code",
   "execution_count": 14,
   "metadata": {},
   "outputs": [],
   "source": [
    "from sklearn.ensemble import RandomForestClassifier\n",
    "from scipy.sparse import csr_matrix, bmat, vstack, save_npz, csc_matrix, load_npz\n",
    "from random import sample, shuffle\n",
    "import numpy as np\n",
    "\n",
    "import time\n",
    "import pickle\n",
    "\n",
    "MAX = 500\n",
    "TRAINX_P = 'trainX_POSITIVES' + str(MAX)\n",
    "TRAINX_N = 'trainX_NEGATIVES' + str(MAX)"
   ]
  },
  {
   "cell_type": "code",
   "execution_count": 15,
   "metadata": {},
   "outputs": [],
   "source": [
    "DATA = 'data/'\n",
    "\n",
    "# Read data\n",
    "with open(DATA + 'statements', 'r') as f:\n",
    "    statements = f.read().splitlines()\n",
    "    stmts_names = [st.split(',')[0][len('fof('):] for st in statements]\n",
    "    \n",
    "with open(DATA + 'chronology', 'r') as f:\n",
    "    chronology = f.read().splitlines()\n",
    "    \n",
    "with open(DATA + 'features', 'r') as f:\n",
    "    features = f.read().splitlines()\n",
    "    features = {f.split(':')[0] : f.split(':')[1].split(', ') for f in features}\n",
    "    \n",
    "with open(DATA + 'dependencies_train', 'r') as f:\n",
    "    train_dep_lines = f.read().splitlines()\n",
    "    train_dep = {}\n",
    "    for f in train_dep_lines:\n",
    "        stmt = f.split(':')[0]\n",
    "        prms = f.split(':')[1].split(' ')\n",
    "        if stmt in train_dep.keys():\n",
    "            train_dep[stmt] += prms\n",
    "        else:\n",
    "            train_dep[stmt] = prms\n",
    "    for k, v in train_dep.items():\n",
    "        train_dep[k] = list(set(v))\n",
    "    \n",
    "with open(DATA + 'conjectures_test', 'r') as f:\n",
    "    conj_test = f.read().splitlines()"
   ]
  },
  {
   "cell_type": "code",
   "execution_count": 16,
   "metadata": {},
   "outputs": [],
   "source": [
    "map_chrono = {f : i for i, f in enumerate(chronology)}"
   ]
  },
  {
   "cell_type": "code",
   "execution_count": 17,
   "metadata": {},
   "outputs": [],
   "source": [
    "flatten = lambda t: [item for sublist in t for item in sublist]\n",
    "land = lambda l1, l2: [a and b for a, b in zip(l1, l2)]\n",
    "lor = lambda l1, l2: [a or b for a, b in zip(l1, l2)]\n",
    "lxor = lambda l1, l2: [a != b for a, b in zip(l1, l2)]\n",
    "\n",
    "# Prepare features sparse vectors\n",
    "fts = list(set(flatten(list(features.values()))))\n",
    "map_fts = {f : i for i, f in enumerate(fts)}"
   ]
  },
  {
   "cell_type": "code",
   "execution_count": null,
   "metadata": {},
   "outputs": [],
   "source": [
    "# Now I will convert statements to vectors\n",
    "stmts = {st: [int(f in features[st]) for f in fts] for st in stmts_names}"
   ]
  },
  {
   "cell_type": "code",
   "execution_count": null,
   "metadata": {},
   "outputs": [],
   "source": [
    "def extract_feature (conj1, conj2):\n",
    "    return land(conj1, conj2) + lor(conj1, conj2) + lxor(conj1, conj2)"
   ]
  },
  {
   "cell_type": "code",
   "execution_count": 13,
   "metadata": {},
   "outputs": [
    {
     "ename": "TypeError",
     "evalue": "object of type 'NoneType' has no len()",
     "output_type": "error",
     "traceback": [
      "\u001b[0;31m---------------------------------------------------------------------------\u001b[0m",
      "\u001b[0;31mAttributeError\u001b[0m                            Traceback (most recent call last)",
      "\u001b[0;32m/usr/local/lib/python3.8/dist-packages/numpy/lib/shape_base.py\u001b[0m in \u001b[0;36marray_split\u001b[0;34m(ary, indices_or_sections, axis)\u001b[0m\n\u001b[1;32m    766\u001b[0m     \u001b[0;32mtry\u001b[0m\u001b[0;34m:\u001b[0m\u001b[0;34m\u001b[0m\u001b[0;34m\u001b[0m\u001b[0m\n\u001b[0;32m--> 767\u001b[0;31m         \u001b[0mNtotal\u001b[0m \u001b[0;34m=\u001b[0m \u001b[0mary\u001b[0m\u001b[0;34m.\u001b[0m\u001b[0mshape\u001b[0m\u001b[0;34m[\u001b[0m\u001b[0maxis\u001b[0m\u001b[0;34m]\u001b[0m\u001b[0;34m\u001b[0m\u001b[0;34m\u001b[0m\u001b[0m\n\u001b[0m\u001b[1;32m    768\u001b[0m     \u001b[0;32mexcept\u001b[0m \u001b[0mAttributeError\u001b[0m\u001b[0;34m:\u001b[0m\u001b[0;34m\u001b[0m\u001b[0;34m\u001b[0m\u001b[0m\n",
      "\u001b[0;31mAttributeError\u001b[0m: 'NoneType' object has no attribute 'shape'",
      "\nDuring handling of the above exception, another exception occurred:\n",
      "\u001b[0;31mTypeError\u001b[0m                                 Traceback (most recent call last)",
      "\u001b[0;32m<ipython-input-13-d97dbd94fd72>\u001b[0m in \u001b[0;36m<module>\u001b[0;34m\u001b[0m\n\u001b[1;32m      2\u001b[0m \u001b[0;34m\u001b[0m\u001b[0m\n\u001b[1;32m      3\u001b[0m \u001b[0msubsections\u001b[0m \u001b[0;34m=\u001b[0m \u001b[0mshuffle\u001b[0m\u001b[0;34m(\u001b[0m\u001b[0mlist\u001b[0m\u001b[0;34m(\u001b[0m\u001b[0mtrain_dep\u001b[0m\u001b[0;34m.\u001b[0m\u001b[0mkeys\u001b[0m\u001b[0;34m(\u001b[0m\u001b[0;34m)\u001b[0m\u001b[0;34m)\u001b[0m\u001b[0;34m)\u001b[0m\u001b[0;34m\u001b[0m\u001b[0;34m\u001b[0m\u001b[0m\n\u001b[0;32m----> 4\u001b[0;31m \u001b[0msubsections\u001b[0m \u001b[0;34m=\u001b[0m \u001b[0mnp\u001b[0m\u001b[0;34m.\u001b[0m\u001b[0marray_split\u001b[0m\u001b[0;34m(\u001b[0m\u001b[0msubsections\u001b[0m\u001b[0;34m,\u001b[0m \u001b[0;36m10\u001b[0m\u001b[0;34m)\u001b[0m\u001b[0;34m\u001b[0m\u001b[0;34m\u001b[0m\u001b[0m\n\u001b[0m\u001b[1;32m      5\u001b[0m \u001b[0mprefix\u001b[0m \u001b[0;34m=\u001b[0m \u001b[0;34m'trainX'\u001b[0m \u001b[0;34m+\u001b[0m \u001b[0mstr\u001b[0m\u001b[0;34m(\u001b[0m\u001b[0mMAX\u001b[0m\u001b[0;34m)\u001b[0m \u001b[0;34m+\u001b[0m \u001b[0;34m'_'\u001b[0m\u001b[0;34m\u001b[0m\u001b[0;34m\u001b[0m\u001b[0m\n\u001b[1;32m      6\u001b[0m \u001b[0mnegatives\u001b[0m \u001b[0;34m=\u001b[0m \u001b[0mcsc_matrix\u001b[0m\u001b[0;34m(\u001b[0m\u001b[0;34m(\u001b[0m\u001b[0;36m0\u001b[0m\u001b[0;34m,\u001b[0m \u001b[0mlen\u001b[0m\u001b[0;34m(\u001b[0m\u001b[0mfts\u001b[0m\u001b[0;34m)\u001b[0m \u001b[0;34m*\u001b[0m \u001b[0;36m3\u001b[0m\u001b[0;34m)\u001b[0m\u001b[0;34m)\u001b[0m\u001b[0;34m\u001b[0m\u001b[0;34m\u001b[0m\u001b[0m\n",
      "\u001b[0;32m<__array_function__ internals>\u001b[0m in \u001b[0;36marray_split\u001b[0;34m(*args, **kwargs)\u001b[0m\n",
      "\u001b[0;32m/usr/local/lib/python3.8/dist-packages/numpy/lib/shape_base.py\u001b[0m in \u001b[0;36marray_split\u001b[0;34m(ary, indices_or_sections, axis)\u001b[0m\n\u001b[1;32m    767\u001b[0m         \u001b[0mNtotal\u001b[0m \u001b[0;34m=\u001b[0m \u001b[0mary\u001b[0m\u001b[0;34m.\u001b[0m\u001b[0mshape\u001b[0m\u001b[0;34m[\u001b[0m\u001b[0maxis\u001b[0m\u001b[0;34m]\u001b[0m\u001b[0;34m\u001b[0m\u001b[0;34m\u001b[0m\u001b[0m\n\u001b[1;32m    768\u001b[0m     \u001b[0;32mexcept\u001b[0m \u001b[0mAttributeError\u001b[0m\u001b[0;34m:\u001b[0m\u001b[0;34m\u001b[0m\u001b[0;34m\u001b[0m\u001b[0m\n\u001b[0;32m--> 769\u001b[0;31m         \u001b[0mNtotal\u001b[0m \u001b[0;34m=\u001b[0m \u001b[0mlen\u001b[0m\u001b[0;34m(\u001b[0m\u001b[0mary\u001b[0m\u001b[0;34m)\u001b[0m\u001b[0;34m\u001b[0m\u001b[0;34m\u001b[0m\u001b[0m\n\u001b[0m\u001b[1;32m    770\u001b[0m     \u001b[0;32mtry\u001b[0m\u001b[0;34m:\u001b[0m\u001b[0;34m\u001b[0m\u001b[0;34m\u001b[0m\u001b[0m\n\u001b[1;32m    771\u001b[0m         \u001b[0;31m# handle array case.\u001b[0m\u001b[0;34m\u001b[0m\u001b[0;34m\u001b[0m\u001b[0;34m\u001b[0m\u001b[0m\n",
      "\u001b[0;31mTypeError\u001b[0m: object of type 'NoneType' has no len()"
     ]
    }
   ],
   "source": [
    "# negative cases\n",
    "all_deps = [k for k in list(train_dep.keys())]\n",
    "shuffle(all_deps)\n",
    "subsections = np.array_split(all_deps, 10)\n",
    "prefix = 'trainX' + str(MAX) + '_'\n",
    "negatives = csc_matrix((0, len(fts) * 3))\n",
    "for subi, conjs in enumerate(subsections):\n",
    "    print(\"PART \", subi)\n",
    "    if (len(conjs) == 0):\n",
    "        break\n",
    "    sample_negs = []\n",
    "    amount = 0\n",
    "    for c, conj in enumerate(conjs):\n",
    "        negs = []\n",
    "        if (c % 10 == 0):\n",
    "            print(\"conjunction no : \", c ,\" , named \", conj, \" with chrono no \", map_chrono[conj])\n",
    "        for i, prem in enumerate([pr for pr in chronology[:map_chrono[conj]] \n",
    "                                     if pr not in train_dep[conj]]):\n",
    "            temp = extract_feature(stmts[conj], stmts[prem])\n",
    "            ones = sum(temp)\n",
    "            negs.append(temp)\n",
    "            amount += 1\n",
    "        if len(negs) > MAX :\n",
    "            sample_negs += sample(negs, MAX)\n",
    "        else:\n",
    "            sample_negs += [n for n in negs]\n",
    "    sample_negs = csc_matrix(sample_negs)\n",
    "    negatives = vstack([negatives, sample_negs])\n",
    "save_npz(TRAINX_N, csc_matrix(negatives))"
   ]
  },
  {
   "cell_type": "code",
   "execution_count": null,
   "metadata": {},
   "outputs": [],
   "source": [
    "# positive cases\n",
    "\n",
    "positives = csc_matrix((0, len(fts) * 3))\n",
    "for conjs in np.array_split(list(train_dep.keys()), 10):\n",
    "    start = time.time()\n",
    "    positives = vstack([positives, csc_matrix([extract_feature(stmts[conj], stmts[premise]) for conj in conjs \n",
    "                 for premise in train_dep[conj]])])\n",
    "    end = time.time()\n",
    "    print(\"took: \", end - start)\n",
    "save_npz(TRAINX_P, csc_matrix(positives))"
   ]
  },
  {
   "cell_type": "code",
   "execution_count": null,
   "metadata": {},
   "outputs": [],
   "source": [
    "# combine whole train set and save it\n",
    "TRAINX = 'fullTrainX' + str(MAX) + \"_61910\"\n",
    "TRAINY = \"fullTrainY\" + str(MAX) + \"_61910\"\n",
    "trainY = [1] * positives.shape[0] + [0] * negatives.shape[0]\n",
    "trainX = vstack([positives, negatives])\n",
    "save_npz(TRAINX, trainX)\n",
    "with open(TRAINY, \"wb\") as fp:   #Pickling\n",
    "    pickle.dump(trainY, fp)"
   ]
  }
 ],
 "metadata": {
  "kernelspec": {
   "display_name": "sid3",
   "language": "python",
   "name": "sid3"
  },
  "language_info": {
   "codemirror_mode": {
    "name": "ipython",
    "version": 3
   },
   "file_extension": ".py",
   "mimetype": "text/x-python",
   "name": "python",
   "nbconvert_exporter": "python",
   "pygments_lexer": "ipython3",
   "version": "3.8.5"
  }
 },
 "nbformat": 4,
 "nbformat_minor": 4
}
