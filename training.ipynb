{
 "cells": [
  {
   "cell_type": "code",
   "execution_count": 25,
   "metadata": {},
   "outputs": [],
   "source": [
    "from sklearn.ensemble import RandomForestClassifier\n",
    "from scipy.sparse import csc_matrix, bmat, vstack, save_npz, csc_matrix, load_npz\n",
    "import numpy as np\n",
    "\n",
    "import time\n",
    "import pickle\n",
    "import subprocess"
   ]
  },
  {
   "cell_type": "code",
   "execution_count": 26,
   "metadata": {},
   "outputs": [],
   "source": [
    "DATA = 'data/'\n",
    "\n",
    "# Read data\n",
    "with open(DATA + 'statements', 'r') as f:\n",
    "    statements = f.read().splitlines()\n",
    "    stmts_names = [st.split(',')[0][len('fof('):] for st in statements]\n",
    "    \n",
    "with open(DATA + 'chronology', 'r') as f:\n",
    "    chronology = f.read().splitlines()\n",
    "    \n",
    "with open(DATA + 'features', 'r') as f:\n",
    "    features = f.read().splitlines()\n",
    "    features = {f.split(':')[0] : f.split(':')[1].split(', ') for f in features}\n",
    "    \n",
    "with open(DATA + 'dependencies_train', 'r') as f:\n",
    "    train_dep_lines = f.read().splitlines()\n",
    "    train_dep = {}\n",
    "    for f in train_dep_lines:\n",
    "        stmt = f.split(':')[0]\n",
    "        prms = f.split(':')[1].split(' ')\n",
    "        if stmt in train_dep.keys():\n",
    "            train_dep[stmt] += prms\n",
    "        else:\n",
    "            train_dep[stmt] = prms\n",
    "    \n",
    "with open(DATA + 'conjectures_test', 'r') as f:\n",
    "    conj_test = f.read().splitlines()\n",
    "    \n",
    "map_chrono = {f : i for i, f in enumerate(chronology)}\n",
    "\n",
    "flatten = lambda t: [item for sublist in t for item in sublist]\n",
    "land = lambda l1, l2: [a and b for a, b in zip(l1, l2)]\n",
    "lor = lambda l1, l2: [a or b for a, b in zip(l1, l2)]\n",
    "lxor = lambda l1, l2: [a != b for a, b in zip(l1, l2)]\n",
    "\n",
    "# Prepare features sparse vectors\n",
    "fts = list(set(flatten(list(features.values()))))\n",
    "map_fts = {f : i for i, f in enumerate(fts)}\n",
    "\n",
    "# Now I will convert statements to vectors\n",
    "stmts = {st: [int(f in features[st]) for f in fts] for st in stmts_names}\n",
    "\n",
    "def extract_feature (conj1, conj2):\n",
    "    return land(conj1, conj2) + lor(conj1, conj2) + lxor(conj1, conj2)"
   ]
  },
  {
   "cell_type": "code",
   "execution_count": 27,
   "metadata": {},
   "outputs": [],
   "source": [
    "def run_proof (conj, premises):\n",
    "    with open('premises.txt', 'w') as p_file:\n",
    "        for p in premises:\n",
    "            p_file.write(p)\n",
    "            p_file.write('\\n')\n",
    "    subprocess.run(\"export EPROVER=~/EProver/Ecompiledlinux/E/PROVER/eprover\", shell = True)\n",
    "    res = subprocess.run(\"python3 run_E_prover.py --conjecture \" + conj_name\n",
    "                   + ' --premises premises.txt'\n",
    "                   + ' --statements data/statements', shell = True, capture_output=True)\n",
    "    found = 'FOUND' in str(res.stdout) and 'NOT FOUND' not in str(res.stdout)\n",
    "    print(res.stdout)\n",
    "    return int(found)\n",
    "\n",
    "def score_and_prove(forest, conj):\n",
    "    scores = forest.predict_proba([extract_feature(conj, stmts[dep_name]) for dep_name in chronology[:map_chrono[conj_name]]])\n",
    "\n",
    "    premises = []\n",
    "    for i, s in enumerate(scores):\n",
    "        if (s[1] > 0.9):\n",
    "            premises.append(chronology[:map_chrono[conj_name]][i])\n",
    "\n",
    "    return run_proof(conj, premises)"
   ]
  },
  {
   "cell_type": "code",
   "execution_count": 28,
   "metadata": {},
   "outputs": [
    {
     "data": {
      "text/plain": [
       "383851"
      ]
     },
     "execution_count": 28,
     "metadata": {},
     "output_type": "execute_result"
    }
   ],
   "source": [
    "len(trainY)"
   ]
  },
  {
   "cell_type": "code",
   "execution_count": 16,
   "metadata": {},
   "outputs": [],
   "source": [
    "r, c = trainX.nonzero()"
   ]
  },
  {
   "cell_type": "code",
   "execution_count": 19,
   "metadata": {},
   "outputs": [
    {
     "data": {
      "text/plain": [
       "array([     0,      0,      0, ..., 383850, 383850, 383850], dtype=int32)"
      ]
     },
     "execution_count": 19,
     "metadata": {},
     "output_type": "execute_result"
    }
   ],
   "source": [
    "r.sort()\n",
    "r"
   ]
  },
  {
   "cell_type": "code",
   "execution_count": 29,
   "metadata": {},
   "outputs": [],
   "source": [
    "trainX3 = load_npz('full_train_data/fullTrainX200Three.npz')\n",
    "with open('full_train_data/fullTrainY200Three', 'rb') as ty:\n",
    "    trainY3 = pickle.load(ty)"
   ]
  },
  {
   "cell_type": "code",
   "execution_count": 30,
   "metadata": {},
   "outputs": [
    {
     "data": {
      "text/plain": [
       "<396948x30723 sparse matrix of type '<class 'numpy.float64'>'\n",
       "\twith 32373154 stored elements in COOrdinate format>"
      ]
     },
     "execution_count": 30,
     "metadata": {},
     "output_type": "execute_result"
    }
   ],
   "source": [
    "trainX3"
   ]
  },
  {
   "cell_type": "code",
   "execution_count": null,
   "metadata": {},
   "outputs": [],
   "source": [
    "forest = RandomForestClassifier(random_state=2137)\n",
    "forest.fit(trainX3, trainY3)"
   ]
  },
  {
   "cell_type": "code",
   "execution_count": 34,
   "metadata": {},
   "outputs": [],
   "source": [
    "conj_name = conj_test[2]\n",
    "#conj_name = list(train_dep.keys())[100]\n",
    "conj = stmts[conj_name]\n",
    "scores = forest.predict_proba([extract_feature(conj, stmts[dep_name]) for dep_name in chronology[:map_chrono[conj_name]]])"
   ]
  },
  {
   "cell_type": "code",
   "execution_count": 40,
   "metadata": {},
   "outputs": [
    {
     "data": {
      "text/plain": [
       "0.4339047221147163"
      ]
     },
     "execution_count": 40,
     "metadata": {},
     "output_type": "execute_result"
    }
   ],
   "source": [
    "def max_score(scores):\n",
    "    m = 0\n",
    "    for s in scores:\n",
    "        if s[1] > m:\n",
    "            m = s[1]\n",
    "    return m\n",
    "max_score(scores)"
   ]
  },
  {
   "cell_type": "code",
   "execution_count": 86,
   "metadata": {},
   "outputs": [],
   "source": [
    "for s in scores:\n",
    "    if s[1] > 0.6:\n",
    "        print(\"hura\")"
   ]
  },
  {
   "cell_type": "code",
   "execution_count": 43,
   "metadata": {},
   "outputs": [
    {
     "data": {
      "text/plain": [
       "232"
      ]
     },
     "execution_count": 43,
     "metadata": {},
     "output_type": "execute_result"
    }
   ],
   "source": [
    "sum(stmts[chronology[:map_chrono[conj_name]][100]])\n",
    "map_chrono[conj_name]"
   ]
  },
  {
   "cell_type": "code",
   "execution_count": 42,
   "metadata": {},
   "outputs": [
    {
     "data": {
      "text/plain": [
       "232"
      ]
     },
     "execution_count": 42,
     "metadata": {},
     "output_type": "execute_result"
    }
   ],
   "source": [
    "len(scores)"
   ]
  },
  {
   "cell_type": "code",
   "execution_count": 16,
   "metadata": {},
   "outputs": [
    {
     "name": "stdout",
     "output_type": "stream",
     "text": [
      "t3_xboole_0\n",
      "b'Proof of conjecture t3_xboole_0 FOUND. Output in file t3_xboole_0.E_output\\n'\n",
      "t7_xboole_0\n",
      "b'Proof of conjecture t7_xboole_0 FOUND. Output in file t7_xboole_0.E_output\\n'\n",
      "t6_xboole_1\n",
      "b'Proof of conjecture t6_xboole_1 FOUND. Output in file t6_xboole_1.E_output\\n'\n",
      "t9_xboole_1\n",
      "b'Proof of conjecture t9_xboole_1 FOUND. Output in file t9_xboole_1.E_output\\n'\n",
      "t10_xboole_1\n",
      "b'Proof of conjecture t10_xboole_1 FOUND. Output in file t10_xboole_1.E_output\\n'\n",
      "t11_xboole_1\n",
      "b'Proof of conjecture t11_xboole_1 FOUND. Output in file t11_xboole_1.E_output\\n'\n",
      "t12_xboole_1\n",
      "b'Proof of conjecture t12_xboole_1 FOUND. Output in file t12_xboole_1.E_output\\n'\n",
      "t15_xboole_1\n",
      "b'Proof of conjecture t15_xboole_1 FOUND. Output in file t15_xboole_1.E_output\\n'\n",
      "t17_xboole_1\n",
      "b'Proof of conjecture t17_xboole_1 FOUND. Output in file t17_xboole_1.E_output\\n'\n",
      "t18_xboole_1\n",
      "b'Proof of conjecture t18_xboole_1 FOUND. Output in file t18_xboole_1.E_output\\n'\n",
      "t20_xboole_1\n",
      "b'Proof of conjecture t20_xboole_1 FOUND. Output in file t20_xboole_1.E_output\\n'\n",
      "t21_xboole_1\n",
      "b'Proof of conjecture t21_xboole_1 FOUND. Output in file t21_xboole_1.E_output\\n'\n",
      "t26_xboole_1\n",
      "b'Proof of conjecture t26_xboole_1 FOUND. Output in file t26_xboole_1.E_output\\n'\n",
      "t28_xboole_1\n",
      "b'Proof of conjecture t28_xboole_1 FOUND. Output in file t28_xboole_1.E_output\\n'\n",
      "t32_xboole_1\n",
      "b'Proof of conjecture t32_xboole_1 NOT found. Output saved in file t32_xboole_1.E_output \\n'\n",
      "t33_xboole_1\n",
      "b'Proof of conjecture t33_xboole_1 NOT found. Output saved in file t33_xboole_1.E_output \\n'\n",
      "t36_xboole_1\n",
      "b'Proof of conjecture t36_xboole_1 FOUND. Output in file t36_xboole_1.E_output\\n'\n",
      "t37_xboole_1\n",
      "b'Proof of conjecture t37_xboole_1 FOUND. Output in file t37_xboole_1.E_output\\n'\n",
      "t42_xboole_1\n",
      "b'Proof of conjecture t42_xboole_1 NOT found. Output saved in file t42_xboole_1.E_output \\n'\n",
      "t51_xboole_1\n",
      "b'Proof of conjecture t51_xboole_1 FOUND. Output in file t51_xboole_1.E_output\\n'\n",
      "t59_xboole_1\n",
      "b'Proof of conjecture t59_xboole_1 FOUND. Output in file t59_xboole_1.E_output\\n'\n",
      "t80_xboole_1\n",
      "b'Proof of conjecture t80_xboole_1 FOUND. Output in file t80_xboole_1.E_output\\n'\n",
      "t82_xboole_1\n",
      "b'Proof of conjecture t82_xboole_1 FOUND. Output in file t82_xboole_1.E_output\\n'\n",
      "t83_xboole_1\n",
      "b'Proof of conjecture t83_xboole_1 FOUND. Output in file t83_xboole_1.E_output\\n'\n",
      "t84_xboole_1\n",
      "b'Proof of conjecture t84_xboole_1 FOUND. Output in file t84_xboole_1.E_output\\n'\n",
      "t87_xboole_1\n",
      "b'Proof of conjecture t87_xboole_1 FOUND. Output in file t87_xboole_1.E_output\\n'\n",
      "t93_xboole_1\n",
      "b'Proof of conjecture t93_xboole_1 FOUND. Output in file t93_xboole_1.E_output\\n'\n",
      "t94_xboole_1\n",
      "b'Proof of conjecture t94_xboole_1 FOUND. Output in file t94_xboole_1.E_output\\n'\n",
      "t97_xboole_1\n",
      "b'Proof of conjecture t97_xboole_1 FOUND. Output in file t97_xboole_1.E_output\\n'\n",
      "t110_xboole_1\n",
      "b'Proof of conjecture t110_xboole_1 NOT found. Output saved in file t110_xboole_1.E_output \\n'\n",
      "t117_xboole_1\n",
      "b'Proof of conjecture t117_xboole_1 FOUND. Output in file t117_xboole_1.E_output\\n'\n",
      "t49_enumset1\n",
      "b'Proof of conjecture t49_enumset1 NOT found. Output saved in file t49_enumset1.E_output \\n'\n",
      "t53_enumset1\n",
      "b'Proof of conjecture t53_enumset1 NOT found. Output saved in file t53_enumset1.E_output \\n'\n",
      "t63_enumset1\n",
      "b'Proof of conjecture t63_enumset1 NOT found. Output saved in file t63_enumset1.E_output \\n'\n",
      "t66_enumset1\n",
      "b'Proof of conjecture t66_enumset1 NOT found. Output saved in file t66_enumset1.E_output \\n'\n",
      "t69_enumset1\n",
      "b'Proof of conjecture t69_enumset1 FOUND. Output in file t69_enumset1.E_output\\n'\n",
      "t76_enumset1\n",
      "b'Proof of conjecture t76_enumset1 FOUND. Output in file t76_enumset1.E_output\\n'\n",
      "t104_enumset1\n",
      "b'Proof of conjecture t104_enumset1 NOT found. Output saved in file t104_enumset1.E_output \\n'\n",
      "t112_enumset1\n",
      "b'Proof of conjecture t112_enumset1 FOUND. Output in file t112_enumset1.E_output\\n'\n",
      "t130_enumset1\n",
      "b'Proof of conjecture t130_enumset1 NOT found. Output saved in file t130_enumset1.E_output \\n'\n",
      "t31_zfmisc_1\n"
     ]
    },
    {
     "ename": "KeyboardInterrupt",
     "evalue": "",
     "output_type": "error",
     "traceback": [
      "\u001b[0;31m---------------------------------------------------------------------------\u001b[0m",
      "\u001b[0;31mKeyboardInterrupt\u001b[0m                         Traceback (most recent call last)",
      "\u001b[0;32m<ipython-input-16-0041dbbbff24>\u001b[0m in \u001b[0;36m<module>\u001b[0;34m\u001b[0m\n\u001b[1;32m      2\u001b[0m \u001b[0;32mfor\u001b[0m \u001b[0mconj_name\u001b[0m \u001b[0;32min\u001b[0m \u001b[0mlist\u001b[0m\u001b[0;34m(\u001b[0m\u001b[0mtrain_dep\u001b[0m\u001b[0;34m.\u001b[0m\u001b[0mkeys\u001b[0m\u001b[0;34m(\u001b[0m\u001b[0;34m)\u001b[0m\u001b[0;34m)\u001b[0m\u001b[0;34m:\u001b[0m\u001b[0;34m\u001b[0m\u001b[0;34m\u001b[0m\u001b[0m\n\u001b[1;32m      3\u001b[0m     \u001b[0mprint\u001b[0m\u001b[0;34m(\u001b[0m\u001b[0mconj_name\u001b[0m\u001b[0;34m)\u001b[0m\u001b[0;34m\u001b[0m\u001b[0;34m\u001b[0m\u001b[0m\n\u001b[0;32m----> 4\u001b[0;31m     \u001b[0mproven\u001b[0m \u001b[0;34m+=\u001b[0m \u001b[0mscore_and_prove\u001b[0m\u001b[0;34m(\u001b[0m\u001b[0mforest\u001b[0m\u001b[0;34m,\u001b[0m \u001b[0mstmts\u001b[0m\u001b[0;34m[\u001b[0m\u001b[0mconj_name\u001b[0m\u001b[0;34m]\u001b[0m\u001b[0;34m)\u001b[0m\u001b[0;34m\u001b[0m\u001b[0;34m\u001b[0m\u001b[0m\n\u001b[0m\u001b[1;32m      5\u001b[0m \u001b[0mprint\u001b[0m\u001b[0;34m(\u001b[0m\u001b[0;34m\"PROVED: \"\u001b[0m\u001b[0;34m,\u001b[0m \u001b[0;36m100\u001b[0m \u001b[0;34m*\u001b[0m \u001b[0mproven\u001b[0m \u001b[0;34m/\u001b[0m \u001b[0mlen\u001b[0m\u001b[0;34m(\u001b[0m\u001b[0mconj_test\u001b[0m\u001b[0;34m)\u001b[0m\u001b[0;34m,\u001b[0m \u001b[0;34m\"% of test set\"\u001b[0m\u001b[0;34m)\u001b[0m\u001b[0;34m\u001b[0m\u001b[0;34m\u001b[0m\u001b[0m\n",
      "\u001b[0;32m<ipython-input-11-a695a23af634>\u001b[0m in \u001b[0;36mscore_and_prove\u001b[0;34m(forest, conj)\u001b[0m\n\u001b[1;32m      7\u001b[0m             \u001b[0mpremises\u001b[0m\u001b[0;34m.\u001b[0m\u001b[0mappend\u001b[0m\u001b[0;34m(\u001b[0m\u001b[0mchronology\u001b[0m\u001b[0;34m[\u001b[0m\u001b[0;34m:\u001b[0m\u001b[0mmap_chrono\u001b[0m\u001b[0;34m[\u001b[0m\u001b[0mconj_name\u001b[0m\u001b[0;34m]\u001b[0m\u001b[0;34m]\u001b[0m\u001b[0;34m[\u001b[0m\u001b[0mi\u001b[0m\u001b[0;34m]\u001b[0m\u001b[0;34m)\u001b[0m\u001b[0;34m\u001b[0m\u001b[0;34m\u001b[0m\u001b[0m\n\u001b[1;32m      8\u001b[0m \u001b[0;34m\u001b[0m\u001b[0m\n\u001b[0;32m----> 9\u001b[0;31m     \u001b[0;32mreturn\u001b[0m \u001b[0mrun_proof\u001b[0m\u001b[0;34m(\u001b[0m\u001b[0mconj\u001b[0m\u001b[0;34m,\u001b[0m \u001b[0mpremises\u001b[0m\u001b[0;34m)\u001b[0m\u001b[0;34m\u001b[0m\u001b[0;34m\u001b[0m\u001b[0m\n\u001b[0m",
      "\u001b[0;32m<ipython-input-10-cbf1ea8dd5e7>\u001b[0m in \u001b[0;36mrun_proof\u001b[0;34m(conj, premises)\u001b[0m\n\u001b[1;32m      5\u001b[0m             \u001b[0mp_file\u001b[0m\u001b[0;34m.\u001b[0m\u001b[0mwrite\u001b[0m\u001b[0;34m(\u001b[0m\u001b[0;34m'\\n'\u001b[0m\u001b[0;34m)\u001b[0m\u001b[0;34m\u001b[0m\u001b[0;34m\u001b[0m\u001b[0m\n\u001b[1;32m      6\u001b[0m     \u001b[0msubprocess\u001b[0m\u001b[0;34m.\u001b[0m\u001b[0mrun\u001b[0m\u001b[0;34m(\u001b[0m\u001b[0;34m\"export EPROVER=~/EProver/Ecompiledlinux/E/PROVER/eprover\"\u001b[0m\u001b[0;34m,\u001b[0m \u001b[0mshell\u001b[0m \u001b[0;34m=\u001b[0m \u001b[0;32mTrue\u001b[0m\u001b[0;34m)\u001b[0m\u001b[0;34m\u001b[0m\u001b[0;34m\u001b[0m\u001b[0m\n\u001b[0;32m----> 7\u001b[0;31m     res = subprocess.run(\"python3 run_E_prover.py --conjecture \" + conj_name\n\u001b[0m\u001b[1;32m      8\u001b[0m                    \u001b[0;34m+\u001b[0m \u001b[0;34m' --premises premises.txt'\u001b[0m\u001b[0;34m\u001b[0m\u001b[0;34m\u001b[0m\u001b[0m\n\u001b[1;32m      9\u001b[0m                    + ' --statements data/statements', shell = True, capture_output=True)\n",
      "\u001b[0;32m/usr/lib/python3.8/subprocess.py\u001b[0m in \u001b[0;36mrun\u001b[0;34m(input, capture_output, timeout, check, *popenargs, **kwargs)\u001b[0m\n\u001b[1;32m    489\u001b[0m     \u001b[0;32mwith\u001b[0m \u001b[0mPopen\u001b[0m\u001b[0;34m(\u001b[0m\u001b[0;34m*\u001b[0m\u001b[0mpopenargs\u001b[0m\u001b[0;34m,\u001b[0m \u001b[0;34m**\u001b[0m\u001b[0mkwargs\u001b[0m\u001b[0;34m)\u001b[0m \u001b[0;32mas\u001b[0m \u001b[0mprocess\u001b[0m\u001b[0;34m:\u001b[0m\u001b[0;34m\u001b[0m\u001b[0;34m\u001b[0m\u001b[0m\n\u001b[1;32m    490\u001b[0m         \u001b[0;32mtry\u001b[0m\u001b[0;34m:\u001b[0m\u001b[0;34m\u001b[0m\u001b[0;34m\u001b[0m\u001b[0m\n\u001b[0;32m--> 491\u001b[0;31m             \u001b[0mstdout\u001b[0m\u001b[0;34m,\u001b[0m \u001b[0mstderr\u001b[0m \u001b[0;34m=\u001b[0m \u001b[0mprocess\u001b[0m\u001b[0;34m.\u001b[0m\u001b[0mcommunicate\u001b[0m\u001b[0;34m(\u001b[0m\u001b[0minput\u001b[0m\u001b[0;34m,\u001b[0m \u001b[0mtimeout\u001b[0m\u001b[0;34m=\u001b[0m\u001b[0mtimeout\u001b[0m\u001b[0;34m)\u001b[0m\u001b[0;34m\u001b[0m\u001b[0;34m\u001b[0m\u001b[0m\n\u001b[0m\u001b[1;32m    492\u001b[0m         \u001b[0;32mexcept\u001b[0m \u001b[0mTimeoutExpired\u001b[0m \u001b[0;32mas\u001b[0m \u001b[0mexc\u001b[0m\u001b[0;34m:\u001b[0m\u001b[0;34m\u001b[0m\u001b[0;34m\u001b[0m\u001b[0m\n\u001b[1;32m    493\u001b[0m             \u001b[0mprocess\u001b[0m\u001b[0;34m.\u001b[0m\u001b[0mkill\u001b[0m\u001b[0;34m(\u001b[0m\u001b[0;34m)\u001b[0m\u001b[0;34m\u001b[0m\u001b[0;34m\u001b[0m\u001b[0m\n",
      "\u001b[0;32m/usr/lib/python3.8/subprocess.py\u001b[0m in \u001b[0;36mcommunicate\u001b[0;34m(self, input, timeout)\u001b[0m\n\u001b[1;32m   1022\u001b[0m \u001b[0;34m\u001b[0m\u001b[0m\n\u001b[1;32m   1023\u001b[0m             \u001b[0;32mtry\u001b[0m\u001b[0;34m:\u001b[0m\u001b[0;34m\u001b[0m\u001b[0;34m\u001b[0m\u001b[0m\n\u001b[0;32m-> 1024\u001b[0;31m                 \u001b[0mstdout\u001b[0m\u001b[0;34m,\u001b[0m \u001b[0mstderr\u001b[0m \u001b[0;34m=\u001b[0m \u001b[0mself\u001b[0m\u001b[0;34m.\u001b[0m\u001b[0m_communicate\u001b[0m\u001b[0;34m(\u001b[0m\u001b[0minput\u001b[0m\u001b[0;34m,\u001b[0m \u001b[0mendtime\u001b[0m\u001b[0;34m,\u001b[0m \u001b[0mtimeout\u001b[0m\u001b[0;34m)\u001b[0m\u001b[0;34m\u001b[0m\u001b[0;34m\u001b[0m\u001b[0m\n\u001b[0m\u001b[1;32m   1025\u001b[0m             \u001b[0;32mexcept\u001b[0m \u001b[0mKeyboardInterrupt\u001b[0m\u001b[0;34m:\u001b[0m\u001b[0;34m\u001b[0m\u001b[0;34m\u001b[0m\u001b[0m\n\u001b[1;32m   1026\u001b[0m                 \u001b[0;31m# https://bugs.python.org/issue25942\u001b[0m\u001b[0;34m\u001b[0m\u001b[0;34m\u001b[0m\u001b[0;34m\u001b[0m\u001b[0m\n",
      "\u001b[0;32m/usr/lib/python3.8/subprocess.py\u001b[0m in \u001b[0;36m_communicate\u001b[0;34m(self, input, endtime, orig_timeout)\u001b[0m\n\u001b[1;32m   1864\u001b[0m                             'failed to raise TimeoutExpired.')\n\u001b[1;32m   1865\u001b[0m \u001b[0;34m\u001b[0m\u001b[0m\n\u001b[0;32m-> 1866\u001b[0;31m                     \u001b[0mready\u001b[0m \u001b[0;34m=\u001b[0m \u001b[0mselector\u001b[0m\u001b[0;34m.\u001b[0m\u001b[0mselect\u001b[0m\u001b[0;34m(\u001b[0m\u001b[0mtimeout\u001b[0m\u001b[0;34m)\u001b[0m\u001b[0;34m\u001b[0m\u001b[0;34m\u001b[0m\u001b[0m\n\u001b[0m\u001b[1;32m   1867\u001b[0m                     \u001b[0mself\u001b[0m\u001b[0;34m.\u001b[0m\u001b[0m_check_timeout\u001b[0m\u001b[0;34m(\u001b[0m\u001b[0mendtime\u001b[0m\u001b[0;34m,\u001b[0m \u001b[0morig_timeout\u001b[0m\u001b[0;34m,\u001b[0m \u001b[0mstdout\u001b[0m\u001b[0;34m,\u001b[0m \u001b[0mstderr\u001b[0m\u001b[0;34m)\u001b[0m\u001b[0;34m\u001b[0m\u001b[0;34m\u001b[0m\u001b[0m\n\u001b[1;32m   1868\u001b[0m \u001b[0;34m\u001b[0m\u001b[0m\n",
      "\u001b[0;32m/usr/lib/python3.8/selectors.py\u001b[0m in \u001b[0;36mselect\u001b[0;34m(self, timeout)\u001b[0m\n\u001b[1;32m    413\u001b[0m         \u001b[0mready\u001b[0m \u001b[0;34m=\u001b[0m \u001b[0;34m[\u001b[0m\u001b[0;34m]\u001b[0m\u001b[0;34m\u001b[0m\u001b[0;34m\u001b[0m\u001b[0m\n\u001b[1;32m    414\u001b[0m         \u001b[0;32mtry\u001b[0m\u001b[0;34m:\u001b[0m\u001b[0;34m\u001b[0m\u001b[0;34m\u001b[0m\u001b[0m\n\u001b[0;32m--> 415\u001b[0;31m             \u001b[0mfd_event_list\u001b[0m \u001b[0;34m=\u001b[0m \u001b[0mself\u001b[0m\u001b[0;34m.\u001b[0m\u001b[0m_selector\u001b[0m\u001b[0;34m.\u001b[0m\u001b[0mpoll\u001b[0m\u001b[0;34m(\u001b[0m\u001b[0mtimeout\u001b[0m\u001b[0;34m)\u001b[0m\u001b[0;34m\u001b[0m\u001b[0;34m\u001b[0m\u001b[0m\n\u001b[0m\u001b[1;32m    416\u001b[0m         \u001b[0;32mexcept\u001b[0m \u001b[0mInterruptedError\u001b[0m\u001b[0;34m:\u001b[0m\u001b[0;34m\u001b[0m\u001b[0;34m\u001b[0m\u001b[0m\n\u001b[1;32m    417\u001b[0m             \u001b[0;32mreturn\u001b[0m \u001b[0mready\u001b[0m\u001b[0;34m\u001b[0m\u001b[0;34m\u001b[0m\u001b[0m\n",
      "\u001b[0;31mKeyboardInterrupt\u001b[0m: "
     ]
    }
   ],
   "source": [
    "proven = 0\n",
    "for conj_name in list(train_dep.keys()):\n",
    "    print(conj_name)\n",
    "    proven += score_and_prove(forest, stmts[conj_name])\n",
    "print(\"PROVED: \", 100 * proven / len(conj_test), \"% of test set\")"
   ]
  }
 ],
 "metadata": {
  "kernelspec": {
   "display_name": "sid3",
   "language": "python",
   "name": "sid3"
  }
 },
 "nbformat": 4,
 "nbformat_minor": 4
}
